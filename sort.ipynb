{
 "cells": [
  {
   "cell_type": "markdown",
   "metadata": {},
   "source": [
    "## bubble sort Algorithm\n",
    "- 배열을 크기 순서대로 정렬하는것 (작은 -> 큰)\n",
    "\n",
    " Pseudo Code\n",
    "- Algorithm_bubble_sort(array,n):\n",
    "    - FOR i <- 1 to n-1:\n",
    "        - For j <- 1 to n-i:\n",
    "            - if array[j] > array[j+1]:\n",
    "                array[j], array[j+1] = array[j+1], array[j]\n",
    "            - else\n",
    "                pass"
   ]
  },
  {
   "cell_type": "code",
   "execution_count": 21,
   "metadata": {},
   "outputs": [],
   "source": [
    "# 시간복잡도 : O(n^2)\n",
    "def bubble_sort(array,n):\n",
    "    for i in range(0,n-1):\n",
    "        for j in range(0,n-i-1):\n",
    "            if array[j] > array[j+1]:\n",
    "                array[j], array[j+1] = array[j+1], array[j]\n",
    "            else:\n",
    "                pass\n",
    "    return array\n",
    "                "
   ]
  },
  {
   "cell_type": "code",
   "execution_count": 22,
   "metadata": {},
   "outputs": [
    {
     "name": "stdout",
     "output_type": "stream",
     "text": [
      "[1, 2, 3, 4, 5, 6, 7, 8, 9]\n"
     ]
    }
   ],
   "source": [
    "bubble_array = [6, 5, 3, 1, 8, 7, 2, 4, 9]\n",
    "print(bubble_sort(bubble_array, len(bubble_array)))\n"
   ]
  },
  {
   "cell_type": "markdown",
   "metadata": {},
   "source": [
    "#### 알고리즘의 개선\n",
    "- 이미 정렬이 되었을 경우 더 이상 For문을 돌 필요가 없다. 이것을 이용하여 시간 복잡도를 더 줄여보자\n",
    "- 아래의 이유로 bubble_sort를 개선해보자."
   ]
  },
  {
   "cell_type": "code",
   "execution_count": 23,
   "metadata": {},
   "outputs": [],
   "source": [
    "def bubble_sort2(array,n):\n",
    "    for i in range(0,n-1):\n",
    "        flag = True #기본 상태\n",
    "        for j in range(0,n-i-1):\n",
    "            if array[j] > array[j+1]:\n",
    "                array[j], array[j+1] = array[j+1], array[j]\n",
    "                flag = False\n",
    "                # 만약 swap이 일어날 경우 깃발을 내린다.\n",
    "            else:\n",
    "                pass\n",
    "        if flag == True:\n",
    "            #즉 깃발이 내려가지 않았을 경우, 크기가 순서대로 정렬되어있음을 의미한다. \n",
    "            break  \n",
    "    return array"
   ]
  },
  {
   "cell_type": "code",
   "execution_count": 24,
   "metadata": {},
   "outputs": [
    {
     "name": "stdout",
     "output_type": "stream",
     "text": [
      "[1, 2, 3, 4, 5, 6, 7, 8, 9]\n"
     ]
    }
   ],
   "source": [
    "bubble_array2 = [6, 5, 3, 1, 8, 7, 2, 4, 9]\n",
    "print(bubble_sort2(bubble_array2, len(bubble_array2)))"
   ]
  },
  {
   "cell_type": "markdown",
   "metadata": {},
   "source": [
    "## Insertion Sort Algorithm\n",
    "PseudoCode\n",
    "- Algorithm Insertion Sort(array,n):\n",
    "    - For i <- 2 TO N:\n",
    "        - key = array[i]\n",
    "        - j = i-1\n",
    "        - WHILE j>0 AND key < array[j]:\n",
    "            - array[j+1] = array[j]\n",
    "            - j = j-1\n",
    "        - array[j+1] = key\n",
    "\n",
    "- 시간복잡도 : O(n^2)"
   ]
  },
  {
   "cell_type": "code",
   "execution_count": 14,
   "metadata": {},
   "outputs": [],
   "source": [
    "#시간복잡도 : O(n^2)\n",
    "def insertion_sort(array,n):\n",
    "    for i in range(1,n):\n",
    "        key = array[i]\n",
    "        j = i-1\n",
    "        while j > -1 and key < array[j]:\n",
    "            array[j+1] = array[j]\n",
    "            j = j-1\n",
    "        array[j+1] = key\n",
    "    return array"
   ]
  },
  {
   "cell_type": "code",
   "execution_count": 15,
   "metadata": {},
   "outputs": [
    {
     "name": "stdout",
     "output_type": "stream",
     "text": [
      "[1, 2, 3, 4, 5, 6, 7, 8, 9]\n"
     ]
    }
   ],
   "source": [
    "insertion_array_1 = [6, 5, 3, 1, 8, 7, 2, 4, 9]\n",
    "print(insertion_sort(insertion_array_1, len(insertion_array_1)))"
   ]
  },
  {
   "cell_type": "markdown",
   "metadata": {},
   "source": [
    "## Selection Sort Algorithm\n",
    " Pseudo Code\n",
    "- Algorithm Selection sort(array,n):\n",
    "    - For i <- 1 to N-1:\n",
    "        - MinNum = array[i]\n",
    "        - For j <- i+1 to N-1:\n",
    "            - IF array[MinNum] > array[j]:\n",
    "                - MinNum = j\n",
    "        - if array[i] != minNum:\n",
    "            - swap array[i] and array[j]\n",
    "    - return array"
   ]
  },
  {
   "cell_type": "code",
   "execution_count": 19,
   "metadata": {},
   "outputs": [],
   "source": [
    "#시간복잡도 :O(n^2)\n",
    "def selection_sort(array,n):\n",
    "    for i in range (0,n-1):\n",
    "        MinNum = i\n",
    "        for j in range (i+1,n-1):\n",
    "            if array[MinNum] > array[j]:\n",
    "                MinNum = j\n",
    "            else:\n",
    "                pass\n",
    "        if i != MinNum:\n",
    "            array[i], array[MinNum] = array[MinNum], array[i]\n",
    "        else:\n",
    "            pass\n",
    "    return array"
   ]
  },
  {
   "cell_type": "code",
   "execution_count": 20,
   "metadata": {},
   "outputs": [
    {
     "name": "stdout",
     "output_type": "stream",
     "text": [
      "[1, 2, 3, 4, 5, 6, 7, 8, 9]\n"
     ]
    }
   ],
   "source": [
    "selection_array_1 = [6, 5, 3, 1, 8, 7, 2, 4, 9]\n",
    "print(selection_sort(selection_array_1, len(selection_array_1)))"
   ]
  },
  {
   "cell_type": "markdown",
   "metadata": {},
   "source": [
    "## merge_sort"
   ]
  },
  {
   "cell_type": "code",
   "execution_count": 4,
   "metadata": {},
   "outputs": [],
   "source": [
    "# 총 시간복잡도 : O(n*logn)\n",
    "\n",
    "#시간복잡도 : O(logn)\n",
    "def merge_sort(array, n):\n",
    "  left = list()\n",
    "  right = list()\n",
    "  if n <= 1:\n",
    "    return array\n",
    "  else:\n",
    "    middle = n//2\n",
    "    left = array[:middle] \n",
    "    right = array[middle+1:]\n",
    "    left = merge_sort(left, len(left))\n",
    "    right = merge_sort(right, len(right))\n",
    "    return merge(left, right)\n",
    "\n",
    "#시간복잡도 : O(n)\n",
    "def merge(left, right):\n",
    "  result = list()\n",
    "  while len(left) > 0 and len(right) > 0:\n",
    "    if left[0] <= right[0]:\n",
    "      result.append(left[0])\n",
    "      left.pop(0)\n",
    "    else:\n",
    "      result.append(right[0])\n",
    "      right.pop(0)\n",
    "  if len(left) > 0:\n",
    "    result.extend(left)\n",
    "  if len(right) > 0:\n",
    "    result.extend(right)\n",
    "  return result"
   ]
  },
  {
   "cell_type": "code",
   "execution_count": null,
   "metadata": {},
   "outputs": [],
   "source": []
  },
  {
   "cell_type": "markdown",
   "metadata": {},
   "source": []
  }
 ],
 "metadata": {
  "kernelspec": {
   "display_name": "Python 3",
   "language": "python",
   "name": "python3"
  },
  "language_info": {
   "codemirror_mode": {
    "name": "ipython",
    "version": 3
   },
   "file_extension": ".py",
   "mimetype": "text/x-python",
   "name": "python",
   "nbconvert_exporter": "python",
   "pygments_lexer": "ipython3",
   "version": "3.11.9"
  }
 },
 "nbformat": 4,
 "nbformat_minor": 2
}
